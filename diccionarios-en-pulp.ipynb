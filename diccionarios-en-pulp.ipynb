{
 "cells": [
  {
   "cell_type": "markdown",
   "metadata": {},
   "source": [
    "\n",
    "# Diccionarios en python\n",
    "\n"
   ]
  },
  {
   "cell_type": "markdown",
   "metadata": {},
   "source": [
    "Un diccionario es una estructura de datos en Python que generaliza a\n",
    "las listas.\n",
    "\n"
   ]
  },
  {
   "cell_type": "markdown",
   "metadata": {},
   "source": [
    "\n",
    "## Ejemplo\n",
    "\n"
   ]
  },
  {
   "cell_type": "markdown",
   "metadata": {},
   "source": [
    "Supongamos a una actriz le han ofrecido los siguientes proyectos para\n",
    "el siguiente año.\n",
    "\n",
    "<table border=\"2\" cellspacing=\"0\" cellpadding=\"6\" rules=\"groups\" frame=\"hsides\">\n",
    "\n",
    "\n",
    "<colgroup>\n",
    "<col  class=\"org-left\" />\n",
    "\n",
    "<col  class=\"org-left\" />\n",
    "\n",
    "<col  class=\"org-left\" />\n",
    "</colgroup>\n",
    "<thead>\n",
    "<tr>\n",
    "<th scope=\"col\" class=\"org-left\">Título</th>\n",
    "<th scope=\"col\" class=\"org-left\">Inicio</th>\n",
    "<th scope=\"col\" class=\"org-left\">Final</th>\n",
    "</tr>\n",
    "</thead>\n",
    "\n",
    "<tbody>\n",
    "<tr>\n",
    "<td class=\"org-left\">Star Wars 10</td>\n",
    "<td class=\"org-left\">Enero 15</td>\n",
    "<td class=\"org-left\">Febrero 2</td>\n",
    "</tr>\n",
    "\n",
    "\n",
    "<tr>\n",
    "<td class=\"org-left\">Toy Story 5</td>\n",
    "<td class=\"org-left\">Enero 28</td>\n",
    "<td class=\"org-left\">Febrero 3</td>\n",
    "</tr>\n",
    "\n",
    "\n",
    "<tr>\n",
    "<td class=\"org-left\">Anabelle 3</td>\n",
    "<td class=\"org-left\">Marzo 2</td>\n",
    "<td class=\"org-left\">Marzo 5</td>\n",
    "</tr>\n",
    "\n",
    "\n",
    "<tr>\n",
    "<td class=\"org-left\">Planeta de los Simios 4</td>\n",
    "<td class=\"org-left\">Enero 17</td>\n",
    "<td class=\"org-left\">Marzo 3</td>\n",
    "</tr>\n",
    "\n",
    "\n",
    "<tr>\n",
    "<td class=\"org-left\">Titanic 2</td>\n",
    "<td class=\"org-left\">Febrero 4</td>\n",
    "<td class=\"org-left\">Febrero 25</td>\n",
    "</tr>\n",
    "\n",
    "\n",
    "<tr>\n",
    "<td class=\"org-left\">Harry Potter 9</td>\n",
    "<td class=\"org-left\">Febrero 16</td>\n",
    "<td class=\"org-left\">Marzo 17</td>\n",
    "</tr>\n",
    "\n",
    "\n",
    "<tr>\n",
    "<td class=\"org-left\">Saw 9</td>\n",
    "<td class=\"org-left\">Marzo 10</td>\n",
    "<td class=\"org-left\">Marzo 11</td>\n",
    "</tr>\n",
    "</tbody>\n",
    "</table>\n",
    "\n",
    "Una manera de organizar la información podría ser por medio de listas,\n",
    "como:\n",
    "\n"
   ]
  },
  {
   "cell_type": "markdown",
   "metadata": {},
   "source": [
    "Hacer una variable por película y poner las fechas "
   ]
  },
  {
   "cell_type": "code",
   "execution_count": 1,
   "metadata": {},
   "outputs": [],
   "source": [
    "st10 = [\"Star Wars 10\", \"Enero 15\", \"Febrero 2\"]\n",
    "ts5 = [\"Toy Story 5\", \"Enero 28\", \"Febrero 3\"]"
   ]
  },
  {
   "cell_type": "markdown",
   "metadata": {},
   "source": [
    "Hay (al menos) dos maneras en que se puede mejorar esto. Primero,\n",
    "probablemente la actriz necesita saber la cantidad de días de trabajo\n",
    "por película para determinar su salario. Para esto, es conveniente\n",
    "usar la biblioteca `datetime`.\n",
    "\n"
   ]
  },
  {
   "cell_type": "markdown",
   "metadata": {},
   "source": [
    "datetime sirve para trabajar con fechas "
   ]
  },
  {
   "cell_type": "code",
   "execution_count": 9,
   "metadata": {},
   "outputs": [
    {
     "data": {
      "text/plain": [
       "(18, 6)"
      ]
     },
     "execution_count": 9,
     "metadata": {},
     "output_type": "execute_result"
    }
   ],
   "source": [
    "from datetime import date\n",
    "st10 = [\"Star Wars 10\", date(2020,1,15), date(2020,2,2)]\n",
    "ts5=[\"Toy Story 5\", date(2020,1,28), date(2020,2,3)]\n",
    "duracion_st10 = st10[2]-st10[1]\n",
    "duracion_ts5 = ts5[2]-ts5[1]\n",
    "duracion_st10.days, duracion_ts5.days     #toma duracion en días "
   ]
  },
  {
   "cell_type": "code",
   "execution_count": 6,
   "metadata": {},
   "outputs": [
    {
     "data": {
      "text/plain": [
       "[3, 4, 5, 6, 7]"
      ]
     },
     "execution_count": 6,
     "metadata": {},
     "output_type": "execute_result"
    }
   ],
   "source": [
    "list(range(3,8))"
   ]
  },
  {
   "cell_type": "markdown",
   "metadata": {},
   "source": [
    "para saber que mas puedo hacer con date"
   ]
  },
  {
   "cell_type": "code",
   "execution_count": 13,
   "metadata": {},
   "outputs": [],
   "source": [
    "date??"
   ]
  },
  {
   "cell_type": "code",
   "execution_count": 15,
   "metadata": {},
   "outputs": [],
   "source": [
    "date?"
   ]
  },
  {
   "cell_type": "markdown",
   "metadata": {},
   "source": [
    "La otra manera es usar una nueva estructura de datos, los\n",
    "`diccionarios`. Esto es conveniente, pues los datos de la película no\n",
    "son todos de la misma naturaleza.\n",
    "\n"
   ]
  },
  {
   "cell_type": "code",
   "execution_count": 18,
   "metadata": {},
   "outputs": [
    {
     "data": {
      "text/plain": [
       "('Star Wars 10', 18)"
      ]
     },
     "execution_count": 18,
     "metadata": {},
     "output_type": "execute_result"
    }
   ],
   "source": [
    "st10 = {'titulo':\"Star Wars 10\", 'inicio':date(2020,1,15), 'final':date(2020,2,2)}      \n",
    "#diccionario, funcion que (a cadena titutlo le da: star wars 10, fecha inicial, fecha final )\n",
    "ts5={'titulo':\"Toy Story 5\", 'inicio':date(2020,1,28), 'final':date(2020,2,3)}\n",
    "st10['titulo'], (st10['final']-st10['inicio']).days"
   ]
  },
  {
   "cell_type": "code",
   "execution_count": 26,
   "metadata": {},
   "outputs": [
    {
     "data": {
      "text/plain": [
       "9"
      ]
     },
     "execution_count": 26,
     "metadata": {},
     "output_type": "execute_result"
    }
   ],
   "source": [
    "calificaciones = {'Lupita':10, 'Ruben':6, 'Abigail':8, \"Pepe\": 9} \n",
    "#si no se pone '' piensa que es una variable, con ellos sabe que es cadena.\n",
    "calificaciones['Pepe'] #para saber el dato exacto de la lista "
   ]
  },
  {
   "cell_type": "markdown",
   "metadata": {},
   "source": [
    "Otra manera de introducir diccionarios cuando las *claves* son cadenas\n",
    "simples:\n",
    "\n"
   ]
  },
  {
   "cell_type": "code",
   "execution_count": 27,
   "metadata": {},
   "outputs": [
    {
     "data": {
      "text/plain": [
       "({'titulo': 'Anabelle 3',\n",
       "  'inicio': datetime.date(2020, 3, 2),\n",
       "  'final': datetime.date(2020, 3, 5)},\n",
       " 'Anabelle 3',\n",
       " datetime.date(2020, 3, 2))"
      ]
     },
     "execution_count": 27,
     "metadata": {},
     "output_type": "execute_result"
    }
   ],
   "source": [
    "ana3=dict(titulo=\"Anabelle 3\",inicio=date(2020,3,2),final=date(2020,3,5))\n",
    "ana3, ana3['titulo'], ana3['inicio']"
   ]
  },
  {
   "cell_type": "markdown",
   "metadata": {},
   "source": [
    "Otra manera es asignar los datos sucesivamente:\n",
    "\n"
   ]
  },
  {
   "cell_type": "code",
   "execution_count": 29,
   "metadata": {},
   "outputs": [
    {
     "data": {
      "text/plain": [
       "{'titulo': 'Planeta de los Simios 4',\n",
       " 'inicio': datetime.date(2020, 1, 17),\n",
       " 'final': datetime.date(2020, 3, 3)}"
      ]
     },
     "execution_count": 29,
     "metadata": {},
     "output_type": "execute_result"
    }
   ],
   "source": [
    "ps4 = {}    #diccionario vacio\n",
    "ps4['titulo'] = \"Planeta de los Simios 4\" \n",
    "ps4['inicio'] = date(2020,1,17)\n",
    "ps4['final'] = date(2020,3,3)\n",
    "ps4"
   ]
  },
  {
   "cell_type": "code",
   "execution_count": 31,
   "metadata": {},
   "outputs": [
    {
     "data": {
      "text/plain": [
       "{'Lupita': 10, 'Ruben': 6, 'Abigail': 8, 'Pepe': 9, 'Saúl': 10}"
      ]
     },
     "execution_count": 31,
     "metadata": {},
     "output_type": "execute_result"
    }
   ],
   "source": [
    "#Añadir elementos y ver cuantos elementos tiene\n",
    "calificaciones['Saúl']=10\n",
    "calificaciones"
   ]
  },
  {
   "cell_type": "code",
   "execution_count": 33,
   "metadata": {},
   "outputs": [
    {
     "data": {
      "text/plain": [
       "{'Lupita': 7, 'Ruben': 6, 'Abigail': 8, 'Pepe': 9, 'Saúl': 10}"
      ]
     },
     "execution_count": 33,
     "metadata": {},
     "output_type": "execute_result"
    }
   ],
   "source": [
    "#Añadiendo a alguien que ya esta, corrige el dato\n",
    "calificaciones['Lupita']=7\n",
    "calificaciones"
   ]
  },
  {
   "cell_type": "markdown",
   "metadata": {},
   "source": [
    "Otra manera es usando `zip`, que es una operación entre listas.\n",
    "\n"
   ]
  },
  {
   "cell_type": "code",
   "execution_count": 40,
   "metadata": {},
   "outputs": [
    {
     "data": {
      "text/plain": [
       "[('titulo', 'Titanic 2'),\n",
       " ('inicio', datetime.date(2020, 2, 4)),\n",
       " ('final', datetime.date(2020, 2, 25))]"
      ]
     },
     "execution_count": 40,
     "metadata": {},
     "output_type": "execute_result"
    }
   ],
   "source": [
    "#zip hace lista de pares, si tenias dos listas la vuelve solo una\n",
    "claves = ['titulo', 'inicio', 'final']     #dominio de la función \n",
    "datos = [\"Titanic 2\", date(2020,2,4), date(2020,2,25)]\n",
    "list(zip(claves, datos))"
   ]
  },
  {
   "cell_type": "code",
   "execution_count": 43,
   "metadata": {},
   "outputs": [
    {
     "data": {
      "text/plain": [
       "{'titulo': 'Titanic 2',\n",
       " 'inicio': datetime.date(2020, 2, 4),\n",
       " 'final': datetime.date(2020, 2, 25)}"
      ]
     },
     "execution_count": 43,
     "metadata": {},
     "output_type": "execute_result"
    }
   ],
   "source": [
    "#A partir del arreglo de pares se crea un diccionario\n",
    "ti2 = dict(zip(claves, datos))\n",
    "ti2"
   ]
  },
  {
   "cell_type": "code",
   "execution_count": 44,
   "metadata": {},
   "outputs": [
    {
     "data": {
      "text/plain": [
       "{'A': 3, 'B': 3}"
      ]
     },
     "execution_count": 44,
     "metadata": {},
     "output_type": "execute_result"
    }
   ],
   "source": [
    "#Lista de parejas se convierte en diccionario\n",
    "cals = [('A',3), ('B',3)]\n",
    "dict(cals)"
   ]
  },
  {
   "cell_type": "markdown",
   "metadata": {},
   "source": [
    "\n",
    "# Operaciones en listas\n",
    "\n"
   ]
  },
  {
   "cell_type": "markdown",
   "metadata": {},
   "source": [
    "Una manera sencilla de crear nuevas listas a partir de otras:\n",
    "\n"
   ]
  },
  {
   "cell_type": "code",
   "execution_count": 62,
   "metadata": {},
   "outputs": [
    {
     "data": {
      "text/plain": [
       "[0, 1, 4, 9, 16, 25, 36, 49, 64, 81]"
      ]
     },
     "execution_count": 62,
     "metadata": {},
     "output_type": "execute_result"
    }
   ],
   "source": [
    "cuadrados = [x**2 for x in range(10)]  #notacon de un conjunto que a cada valor entre 0 y 10 le asocia su cuadrado\n",
    "#cada elemento en una lista de variables se le aplica una función \n",
    "cuadrados"
   ]
  },
  {
   "cell_type": "markdown",
   "metadata": {},
   "source": [
    "Funciona también para diccionarios\n",
    "\n"
   ]
  },
  {
   "cell_type": "code",
   "execution_count": 46,
   "metadata": {},
   "outputs": [
    {
     "data": {
      "text/plain": [
       "['Titanic 2', datetime.date(2020, 2, 4), datetime.date(2020, 2, 25)]"
      ]
     },
     "execution_count": 46,
     "metadata": {},
     "output_type": "execute_result"
    }
   ],
   "source": [
    "datos = [ti2[info] for info in claves]  #Variable info evalua \n",
    "datos"
   ]
  },
  {
   "cell_type": "code",
   "execution_count": 50,
   "metadata": {},
   "outputs": [
    {
     "data": {
      "text/plain": [
       "['Lupita', 'Ruben', 'Abigail', 'Pepe', 'Saúl']"
      ]
     },
     "execution_count": 50,
     "metadata": {},
     "output_type": "execute_result"
    }
   ],
   "source": [
    "alumnos = calificaciones.keys()        #calificaciones es un diccionario \n",
    "list(alumnos)                          #convertir en lista del domiminio "
   ]
  },
  {
   "cell_type": "code",
   "execution_count": 51,
   "metadata": {},
   "outputs": [
    {
     "data": {
      "text/plain": [
       "[7, 6, 8, 9, 10]"
      ]
     },
     "execution_count": 51,
     "metadata": {},
     "output_type": "execute_result"
    }
   ],
   "source": [
    "valores = [calificaciones[x] for x in alumnos]\n",
    "valores"
   ]
  },
  {
   "cell_type": "code",
   "execution_count": 53,
   "metadata": {},
   "outputs": [
    {
     "data": {
      "text/plain": [
       "([7, 6, 8, 9, 10], 8.0)"
      ]
     },
     "execution_count": 53,
     "metadata": {},
     "output_type": "execute_result"
    }
   ],
   "source": [
    "valores = [calificaciones[x] for x in alumnos]\n",
    "valores, sum(valores)/len(valores)"
   ]
  },
  {
   "cell_type": "markdown",
   "metadata": {},
   "source": [
    "\n",
    "# En pulp\n",
    "\n"
   ]
  },
  {
   "cell_type": "code",
   "execution_count": 58,
   "metadata": {},
   "outputs": [
    {
     "data": {
      "text/plain": [
       "{0: x_0, 1: x_1, 2: x_2, 3: x_3, 4: x_4}"
      ]
     },
     "execution_count": 58,
     "metadata": {},
     "output_type": "execute_result"
    }
   ],
   "source": [
    "from pulp import *\n",
    "prob = LpProblem(\"Problema\", LpMaximize)\n",
    "variables = LpVariable.dicts(\"x\", range(5), 0) # declara variales usando un diccionario de variables\n",
    "variables"
   ]
  },
  {
   "cell_type": "code",
   "execution_count": 57,
   "metadata": {},
   "outputs": [
    {
     "data": {
      "text/plain": [
       "{'Lupita': calif_Lupita,\n",
       " 'Ruben': calif_Ruben,\n",
       " 'Abigail': calif_Abigail,\n",
       " 'Pepe': calif_Pepe,\n",
       " 'Saúl': calif_Saúl}"
      ]
     },
     "execution_count": 57,
     "metadata": {},
     "output_type": "execute_result"
    }
   ],
   "source": [
    "from pulp import *\n",
    "prob2 = LpProblem(\"Problema\", LpMaximize)\n",
    "variables = LpVariable.dicts(\"calif\",alumnos, 0) # declara variales usando un diccionario de variables\n",
    "variables"
   ]
  },
  {
   "cell_type": "markdown",
   "metadata": {},
   "source": [
    "\n",
    "Si queremos incluir la restricción\n",
    "$3x_{0}+2x_{1}+x_{2}+3x_{3}+7x_{4}\\leq 5$, podríamos poner:\n",
    "\n"
   ]
  },
  {
   "cell_type": "code",
   "execution_count": 59,
   "metadata": {},
   "outputs": [
    {
     "data": {
      "text/plain": [
       "Problema:\n",
       "MAXIMIZE\n",
       "None\n",
       "SUBJECT TO\n",
       "_C1: 3 x_0 + 2 x_1 + x_2 + 3 x_3 + 7 x_4 <= 5\n",
       "\n",
       "VARIABLES\n",
       "x_0 Continuous\n",
       "x_1 Continuous\n",
       "x_2 Continuous\n",
       "x_3 Continuous\n",
       "x_4 Continuous"
      ]
     },
     "execution_count": 59,
     "metadata": {},
     "output_type": "execute_result"
    }
   ],
   "source": [
    "coeficientes = [3,2,1,3,7]\n",
    "prob += lpSum(coeficientes[i]*variables[i] for i in range(5)) <= 5\n",
    "prob"
   ]
  },
  {
   "cell_type": "markdown",
   "metadata": {},
   "source": [
    "Para maximizar $-x_{2}+x_{4}$ con esta restricción, podemos poner:\n",
    "\n"
   ]
  },
  {
   "cell_type": "code",
   "execution_count": 60,
   "metadata": {},
   "outputs": [
    {
     "data": {
      "text/plain": [
       "Problema:\n",
       "MAXIMIZE\n",
       "-1*x_2 + 1*x_4 + 0\n",
       "SUBJECT TO\n",
       "_C1: 3 x_0 + 2 x_1 + x_2 + 3 x_3 + 7 x_4 <= 5\n",
       "\n",
       "VARIABLES\n",
       "x_0 Continuous\n",
       "x_1 Continuous\n",
       "x_2 Continuous\n",
       "x_3 Continuous\n",
       "x_4 Continuous"
      ]
     },
     "execution_count": 60,
     "metadata": {},
     "output_type": "execute_result"
    }
   ],
   "source": [
    "objetivo = [0,0,-1,0,1]\n",
    "prob += lpSum(objetivo[i]*variables[i] for i in range(5))\n",
    "prob"
   ]
  },
  {
   "cell_type": "code",
   "execution_count": 61,
   "metadata": {},
   "outputs": [
    {
     "data": {
      "text/plain": [
       "(0.71428571, 'Optimal')"
      ]
     },
     "execution_count": 61,
     "metadata": {},
     "output_type": "execute_result"
    }
   ],
   "source": [
    "status = prob.solve()\n",
    "value(prob.objective), LpStatus[prob.status]"
   ]
  },
  {
   "cell_type": "markdown",
   "metadata": {},
   "source": [
    "\n",
    "## Problema\n",
    "\n"
   ]
  },
  {
   "cell_type": "markdown",
   "metadata": {},
   "source": [
    "Usando `for`, determinar los valores de las variables donde se alcanza\n",
    "el máximo.\n",
    "\n"
   ]
  },
  {
   "cell_type": "code",
   "execution_count": 63,
   "metadata": {},
   "outputs": [
    {
     "data": {
      "text/plain": [
       "x_0"
      ]
     },
     "execution_count": 63,
     "metadata": {},
     "output_type": "execute_result"
    }
   ],
   "source": [
    "variables[0]"
   ]
  },
  {
   "cell_type": "code",
   "execution_count": 64,
   "metadata": {},
   "outputs": [
    {
     "ename": "NameError",
     "evalue": "name 'i' is not defined",
     "output_type": "error",
     "traceback": [
      "\u001b[0;31m---------------------------------------------------------------------------\u001b[0m",
      "\u001b[0;31mNameError\u001b[0m                                 Traceback (most recent call last)",
      "\u001b[0;32m<ipython-input-64-a06c11fcf1c3>\u001b[0m in \u001b[0;36m<module>\u001b[0;34m()\u001b[0m\n\u001b[0;32m----> 1\u001b[0;31m \u001b[0mvalores\u001b[0m \u001b[0;34m=\u001b[0m \u001b[0;34m[\u001b[0m\u001b[0mvalues\u001b[0m \u001b[0;32mfor\u001b[0m \u001b[0mi\u001b[0m \u001b[0;32min\u001b[0m \u001b[0mvariables\u001b[0m\u001b[0;34m[\u001b[0m\u001b[0mi\u001b[0m\u001b[0;34m]\u001b[0m\u001b[0;34m]\u001b[0m\u001b[0;34m\u001b[0m\u001b[0m\n\u001b[0m",
      "\u001b[0;31mNameError\u001b[0m: name 'i' is not defined"
     ]
    }
   ],
   "source": [
    "valores = [values for i in variables[i]]"
   ]
  },
  {
   "cell_type": "code",
   "execution_count": 69,
   "metadata": {},
   "outputs": [
    {
     "data": {
      "text/plain": [
       "0.0"
      ]
     },
     "execution_count": 69,
     "metadata": {},
     "output_type": "execute_result"
    }
   ],
   "source": [
    "value(variables[1])"
   ]
  },
  {
   "cell_type": "code",
   "execution_count": 66,
   "metadata": {},
   "outputs": [
    {
     "data": {
      "text/plain": [
       "0.0"
      ]
     },
     "execution_count": 66,
     "metadata": {},
     "output_type": "execute_result"
    }
   ],
   "source": [
    "value(variables[3])"
   ]
  },
  {
   "cell_type": "code",
   "execution_count": 67,
   "metadata": {},
   "outputs": [
    {
     "data": {
      "text/plain": [
       "0.0"
      ]
     },
     "execution_count": 67,
     "metadata": {},
     "output_type": "execute_result"
    }
   ],
   "source": [
    "value(variables[2])"
   ]
  },
  {
   "cell_type": "code",
   "execution_count": 70,
   "metadata": {},
   "outputs": [
    {
     "data": {
      "text/plain": [
       "0.71428571"
      ]
     },
     "execution_count": 70,
     "metadata": {},
     "output_type": "execute_result"
    }
   ],
   "source": [
    "value(variables[4])"
   ]
  },
  {
   "cell_type": "code",
   "execution_count": 72,
   "metadata": {},
   "outputs": [
    {
     "data": {
      "text/plain": [
       "(0.0, 0.0, 0.0, 0.0, 0.71428571)"
      ]
     },
     "execution_count": 72,
     "metadata": {},
     "output_type": "execute_result"
    }
   ],
   "source": [
    "value(variables[0]), value(variables[1]), value(variables[2]), value(variables[3]), value(variables[4])"
   ]
  },
  {
   "cell_type": "code",
   "execution_count": 74,
   "metadata": {},
   "outputs": [
    {
     "data": {
      "text/plain": [
       "[0.0, 0.0, 0.0, 0.0, 0.71428571]"
      ]
     },
     "execution_count": 74,
     "metadata": {},
     "output_type": "execute_result"
    }
   ],
   "source": [
    "[value(variables[x]) for x in variables]"
   ]
  },
  {
   "cell_type": "code",
   "execution_count": null,
   "metadata": {},
   "outputs": [],
   "source": []
  }
 ],
 "metadata": {
  "kernelspec": {
   "display_name": "Python 3",
   "language": "python",
   "name": "python3"
  },
  "language_info": {
   "codemirror_mode": {
    "name": "ipython",
    "version": 3
   },
   "file_extension": ".py",
   "mimetype": "text/x-python",
   "name": "python",
   "nbconvert_exporter": "python",
   "pygments_lexer": "ipython3",
   "version": "3.7.0"
  },
  "org": null
 },
 "nbformat": 4,
 "nbformat_minor": 1
}
